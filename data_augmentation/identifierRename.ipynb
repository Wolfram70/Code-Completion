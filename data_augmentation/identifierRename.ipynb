{
 "cells": [
  {
   "cell_type": "code",
   "execution_count": 1,
   "metadata": {},
   "outputs": [
    {
     "name": "stderr",
     "output_type": "stream",
     "text": [
      "/home/wolfram/miniconda3/envs/codecomp/lib/python3.11/site-packages/tqdm/auto.py:21: TqdmWarning: IProgress not found. Please update jupyter and ipywidgets. See https://ipywidgets.readthedocs.io/en/stable/user_install.html\n",
      "  from .autonotebook import tqdm as notebook_tqdm\n"
     ]
    }
   ],
   "source": [
    "from transformers import AutoTokenizer, AutoModelForMaskedLM, pipeline\n",
    "\n",
    "tokenizer_GraphCodeBert = AutoTokenizer.from_pretrained(\"microsoft/graphcodebert-base\")\n",
    "\n",
    "model_GraphCodeBert = AutoModelForMaskedLM.from_pretrained(\"microsoft/graphcodebert-base\")"
   ]
  },
  {
   "cell_type": "code",
   "execution_count": 2,
   "metadata": {},
   "outputs": [],
   "source": [
    "import ast\n",
    "\n",
    "def getLineAssignment(tree, lineno):\n",
    "    return next((node for node in ast.walk(tree) if isinstance(node, ast.Name) and node.lineno == lineno), None)\n",
    "\n",
    "def get_variables(expression):\n",
    "    tree = ast.parse(expression)\n",
    "    variables = []\n",
    "    for node in ast.walk(tree):\n",
    "        if not isinstance(node, ast.Assign):\n",
    "            continue\n",
    "        nodeVariable = getLineAssignment(tree, node.lineno).id\n",
    "        if nodeVariable not in variables:\n",
    "            variables.append(nodeVariable)\n",
    "    return variables"
   ]
  },
  {
   "cell_type": "code",
   "execution_count": 3,
   "metadata": {},
   "outputs": [],
   "source": [
    "class replaceName(ast.NodeTransformer):\n",
    "    def __init__(self, varName, replaceName):\n",
    "        self.varName = varName\n",
    "        self.replaceName = replaceName\n",
    "\n",
    "    def visit_Name(self, node):\n",
    "        if(node.id == self.varName):\n",
    "            node.id = self.replaceName\n",
    "        return node\n"
   ]
  },
  {
   "cell_type": "code",
   "execution_count": 18,
   "metadata": {},
   "outputs": [],
   "source": [
    "CODE = \"\"\"\n",
    "X = [[12,7,3],\n",
    "    [4 ,5,6],\n",
    "    [7 ,8,9]]\n",
    "Y = [[5,8,1,2],\n",
    "    [6,7,3,0],\n",
    "    [4,5,9,1]]\n",
    "result = [[0,0,0,0],\n",
    "         [0,0,0,0],\n",
    "         [0,0,0,0]]\n",
    "for i in range(len(X)):\n",
    "   for j in range(len(Y[0])):\n",
    "       for k in range(len(Y)):\n",
    "           result[i][j] += X[i][k] * Y[k][j]\n",
    "for r in result:\n",
    "   print(r)\n",
    "\"\"\""
   ]
  },
  {
   "cell_type": "code",
   "execution_count": 21,
   "metadata": {},
   "outputs": [
    {
     "name": "stdout",
     "output_type": "stream",
     "text": [
      "['X', 'Y', 'result']\n",
      "['W', 'y', 'R']\n",
      "\n",
      "X = [[12,7,3],\n",
      "    [4 ,5,6],\n",
      "    [7 ,8,9]]\n",
      "Y = [[5,8,1,2],\n",
      "    [6,7,3,0],\n",
      "    [4,5,9,1]]\n",
      "result = [[0,0,0,0],\n",
      "         [0,0,0,0],\n",
      "         [0,0,0,0]]\n",
      "for i in range(len(X)):\n",
      "   for j in range(len(Y[0])):\n",
      "       for k in range(len(Y)):\n",
      "           result[i][j] += X[i][k] * Y[k][j]\n",
      "for r in result:\n",
      "   print(r)\n",
      "\n",
      "W = [[12, 7, 3], [4, 5, 6], [7, 8, 9]]\n",
      "y = [[5, 8, 1, 2], [6, 7, 3, 0], [4, 5, 9, 1]]\n",
      "R = [[0, 0, 0, 0], [0, 0, 0, 0], [0, 0, 0, 0]]\n",
      "for i in range(len(W)):\n",
      "    for j in range(len(y[0])):\n",
      "        for k in range(len(y)):\n",
      "            R[i][j] += W[i][k] * y[k][j]\n",
      "for r in R:\n",
      "    print(r)\n"
     ]
    }
   ],
   "source": [
    "variables = get_variables(CODE)\n",
    "print(variables)\n",
    "tree = ast.parse(CODE)\n",
    "\n",
    "for i in range(0, len(variables)):\n",
    "    masked = ast.unparse(replaceName(variables[i], '<mask>').visit(ast.parse(CODE)))\n",
    "    fill_mask_GCB = pipeline(\"fill-mask\", model=model_GraphCodeBert, tokenizer=tokenizer_GraphCodeBert)\n",
    "    candidates = fill_mask_GCB(masked)\n",
    "    replacement = ''\n",
    "    for j in range(0, len(candidates)):\n",
    "        replacement = candidates[0][j]['token_str'].lstrip(' ')\n",
    "        if replacement in variables:\n",
    "            continue\n",
    "        if len(replacement) > 0:\n",
    "            break\n",
    "    tree = replaceName(variables[i], replacement).visit(tree)\n",
    "    variables[i] = replacement\n",
    "print(variables)\n",
    "new_code = ast.unparse(tree)\n",
    "print(CODE)\n",
    "print(new_code)\n"
   ]
  }
 ],
 "metadata": {
  "kernelspec": {
   "display_name": "codecomp",
   "language": "python",
   "name": "python3"
  },
  "language_info": {
   "codemirror_mode": {
    "name": "ipython",
    "version": 3
   },
   "file_extension": ".py",
   "mimetype": "text/x-python",
   "name": "python",
   "nbconvert_exporter": "python",
   "pygments_lexer": "ipython3",
   "version": "3.11.0"
  },
  "orig_nbformat": 4
 },
 "nbformat": 4,
 "nbformat_minor": 2
}
