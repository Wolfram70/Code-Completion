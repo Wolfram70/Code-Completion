{
 "cells": [
  {
   "cell_type": "code",
   "execution_count": 15,
   "metadata": {},
   "outputs": [],
   "source": [
    "from transformers import AutoTokenizer, AutoModelForMaskedLM, pipeline\n",
    "\n",
    "tokenizer_GraphCodeBert = AutoTokenizer.from_pretrained(\"microsoft/graphcodebert-base\")\n",
    "\n",
    "model_GraphCodeBert = AutoModelForMaskedLM.from_pretrained(\"microsoft/graphcodebert-base\")"
   ]
  },
  {
   "cell_type": "code",
   "execution_count": 3,
   "metadata": {},
   "outputs": [],
   "source": [
    "import ast\n",
    "\n",
    "def getLineAssignment(tree, lineno):\n",
    "    return next((node for node in ast.walk(tree) if isinstance(node, ast.Name) and node.lineno == lineno), None)\n",
    "\n",
    "def get_variables(expression):\n",
    "    tree = ast.parse(expression)\n",
    "    variables = []\n",
    "    for node in ast.walk(tree):\n",
    "        if not isinstance(node, ast.Assign):\n",
    "            continue\n",
    "        nodeVariable = getLineAssignment(tree, node.lineno).id\n",
    "        if nodeVariable not in variables:\n",
    "            variables.append(nodeVariable)\n",
    "    return variables"
   ]
  },
  {
   "cell_type": "code",
   "execution_count": 4,
   "metadata": {},
   "outputs": [],
   "source": [
    "class replaceName(ast.NodeTransformer):\n",
    "    def __init__(self, varName, replaceName):\n",
    "        self.varName = varName\n",
    "        self.replaceName = replaceName\n",
    "\n",
    "    def visit_Name(self, node):\n",
    "        if(node.id == self.varName):\n",
    "            node.id = self.replaceName\n",
    "        return node\n"
   ]
  },
  {
   "cell_type": "code",
   "execution_count": 20,
   "metadata": {},
   "outputs": [],
   "source": [
    "CODE = \"\"\"\n",
    "def Function(Variable):\n",
    "    a = sin(Variable)\n",
    "    b = cos(Variable)\n",
    "    return a + b\n",
    "\"\"\""
   ]
  },
  {
   "cell_type": "code",
   "execution_count": 37,
   "metadata": {},
   "outputs": [
    {
     "name": "stdout",
     "output_type": "stream",
     "text": [
      "\n",
      "def Function(Variable):\n",
      "    a = sin(Variable)\n",
      "    b = cos(Variable)\n",
      "    return a + b\n",
      "\n",
      "def Function(Variable):\n",
      "    a = sin(Variable)\n",
      "    c = cos(Variable)\n",
      "    return a + c\n"
     ]
    }
   ],
   "source": [
    "variables = get_variables(CODE)\n",
    "masked = ast.unparse(replaceName(variables[1], '<mask>').visit(ast.parse(CODE)))\n",
    "fill_mask_GCB = pipeline(\"fill-mask\", model=model_GraphCodeBert, tokenizer=tokenizer_GraphCodeBert)\n",
    "candidates = fill_mask_GCB(masked)\n",
    "i = 0\n",
    "while candidates[0][i]['token_str'][1:] == variables[1]:\n",
    "    i += 1\n",
    "replacement = candidates[0][i]['token_str'][1:]\n",
    "new_code = ast.unparse(replaceName(variables[1], replacement).visit(ast.parse(CODE)))\n",
    "print(CODE)\n",
    "print(new_code)\n"
   ]
  }
 ],
 "metadata": {
  "kernelspec": {
   "display_name": "codecomp",
   "language": "python",
   "name": "python3"
  },
  "language_info": {
   "codemirror_mode": {
    "name": "ipython",
    "version": 3
   },
   "file_extension": ".py",
   "mimetype": "text/x-python",
   "name": "python",
   "nbconvert_exporter": "python",
   "pygments_lexer": "ipython3",
   "version": "3.11.0"
  },
  "orig_nbformat": 4
 },
 "nbformat": 4,
 "nbformat_minor": 2
}
